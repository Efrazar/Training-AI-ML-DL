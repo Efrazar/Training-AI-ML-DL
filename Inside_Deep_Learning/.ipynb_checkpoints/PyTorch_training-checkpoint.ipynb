{
 "cells": [
  {
   "cell_type": "markdown",
   "id": "138c98af-17a0-4681-b1b0-b2fa06b202a6",
   "metadata": {},
   "source": [
    "# Chapter 1: The mechanics of Learning"
   ]
  },
  {
   "cell_type": "markdown",
   "id": "32291e4f-e143-4149-8954-ac95c055fa9a",
   "metadata": {},
   "source": [
    "## numpy matrix and pyTorch tensor"
   ]
  },
  {
   "cell_type": "code",
   "execution_count": 164,
   "id": "b793dc50-a573-4634-8bc7-6ed743157d6a",
   "metadata": {},
   "outputs": [],
   "source": [
    "import torch\n",
    "import numpy as np\n",
    "from tqdm.autonotebook import tqdm"
   ]
  },
  {
   "cell_type": "code",
   "execution_count": 9,
   "id": "5d6fd8ee-3f9a-4068-924f-fd21afe81236",
   "metadata": {},
   "outputs": [
    {
     "name": "stdout",
     "output_type": "stream",
     "text": [
      "Example of a scalar tensor: 5.340000152587891\n",
      "Example of a vector tensor: tensor([1, 2, 3, 4])\n",
      "Example of a matrix tensor: tensor([[1, 2],\n",
      "        [3, 4],\n",
      "        [5, 6],\n",
      "        [7, 8]])\n",
      "Example of a 3D tensor:\n",
      " tensor([[[ 1,  2,  3],\n",
      "         [ 4,  5,  6]],\n",
      "\n",
      "        [[ 7,  8,  9],\n",
      "         [10, 11, 12]],\n",
      "\n",
      "        [[13, 14, 15],\n",
      "         [16, 17, 18]],\n",
      "\n",
      "        [[19, 20, 21],\n",
      "         [22, 23, 24]]])\n"
     ]
    }
   ],
   "source": [
    "# Start with pytorch\n",
    "import torch\n",
    "\n",
    "torch_scalar = torch.tensor(5.34)\n",
    "torch_vector = torch.tensor([1, 2, 3, 4])\n",
    "torch_matrix = torch.tensor([[1, 2],\n",
    "                             [3, 4],\n",
    "                             [5, 6],\n",
    "                             [7, 8]])\n",
    "\n",
    "torch_tensor3d = torch.tensor([\n",
    "    [\n",
    "        [1, 2, 3],\n",
    "        [4, 5, 6]\n",
    "    ],\n",
    "    [\n",
    "        [7, 8, 9],\n",
    "        [10, 11, 12]\n",
    "    ],\n",
    "    [\n",
    "        [13, 14, 15],\n",
    "        [16, 17, 18]\n",
    "    ],\n",
    "    [\n",
    "        [19, 20, 21],\n",
    "        [22, 23, 24]\n",
    "    ]])\n",
    "\n",
    "print(f'Example of a scalar tensor: {torch_scalar}')\n",
    "print(f'Example of a vector tensor: {torch_vector}')\n",
    "print(f'Example of a matrix tensor: {torch_matrix}')\n",
    "print(f'Example of a 3D tensor:\\n {torch_tensor3d}')"
   ]
  },
  {
   "cell_type": "code",
   "execution_count": 13,
   "id": "b84238d9-cfd4-4439-9b3c-a6beca84fb3e",
   "metadata": {},
   "outputs": [
    {
     "name": "stdout",
     "output_type": "stream",
     "text": [
      "Shape of the tensors:\n",
      "\n",
      "torch.Size([])\n",
      "torch.Size([4])\n",
      "torch.Size([4, 2])\n",
      "torch.Size([4, 2, 3])\n"
     ]
    }
   ],
   "source": [
    "# Explore the shapes of the tensors:\n",
    "\n",
    "print('Shape of the tensors:\\n')\n",
    "print(torch_scalar.shape)\n",
    "print(torch_vector.shape)\n",
    "print(torch_matrix.shape)\n",
    "print(torch_tensor3d.shape)"
   ]
  },
  {
   "cell_type": "code",
   "execution_count": 11,
   "id": "36f1ed48-bbe6-4c98-a0f5-2339e22f76ea",
   "metadata": {},
   "outputs": [
    {
     "name": "stdout",
     "output_type": "stream",
     "text": [
      "numpy matrix: \n",
      " [[0.82142384 0.98218648 0.79105317 0.94513463]\n",
      " [0.17007605 0.32074027 0.23970579 0.21631307]\n",
      " [0.47697404 0.25551972 0.49204434 0.94157763]\n",
      " [0.90563549 0.62525356 0.83893285 0.38417793]]\n",
      "Shape of numpy matrix: (4, 4)\n",
      "dtype of numpy matrix: float64\n",
      "\n",
      "PyTorch tensor: \n",
      "tensor([[0.8214, 0.9822, 0.7911, 0.9451],\n",
      "        [0.1701, 0.3207, 0.2397, 0.2163],\n",
      "        [0.4770, 0.2555, 0.4920, 0.9416],\n",
      "        [0.9056, 0.6253, 0.8389, 0.3842]], dtype=torch.float64)\n",
      "Shape of pytorch tensor: torch.Size([4, 4])\n",
      "dtype of pytorch tensor: torch.float64\n"
     ]
    }
   ],
   "source": [
    "# Convert a numpy tensor in to a PyTorch tensor\n",
    "\n",
    "import numpy as np\n",
    "\n",
    "x_np = np.random.random((4,4))\n",
    "print(f'numpy matrix: \\n {x_np}')\n",
    "print(f'Shape of numpy matrix: {x_np.shape}')\n",
    "print(f'dtype of numpy matrix: {x_np.dtype}')\n",
    "\n",
    "x_pt = torch.tensor(x_np)\n",
    "print (f'\\nPyTorch tensor: \\n{x_pt}')\n",
    "print(f'Shape of pytorch tensor: {x_pt.shape}')\n",
    "print(f'dtype of pytorch tensor: {x_pt.dtype}')\n",
    "\n"
   ]
  },
  {
   "cell_type": "code",
   "execution_count": 15,
   "id": "951f69ea-8d90-4da4-a4c7-7fbfbb262e40",
   "metadata": {},
   "outputs": [
    {
     "name": "stdout",
     "output_type": "stream",
     "text": [
      "dtype of numpy matrix: float32\n",
      "dtype of pytorch tensor: torch.float32\n"
     ]
    }
   ],
   "source": [
    "# convert numpy ndarray float64 to float32\n",
    "x_np = np.asarray(x_np, dtype=np.float32)\n",
    "x_pt = torch.tensor(x_np, dtype=torch.float32)\n",
    "print(f'dtype of numpy matrix: {x_np.dtype}')\n",
    "print(f'dtype of pytorch tensor: {x_pt.dtype}')"
   ]
  },
  {
   "cell_type": "code",
   "execution_count": 19,
   "id": "3ff4cb55-1944-4288-8964-a73d167a9858",
   "metadata": {},
   "outputs": [
    {
     "name": "stdout",
     "output_type": "stream",
     "text": [
      "[[ True  True  True  True]\n",
      " [False False False False]\n",
      " [False False False  True]\n",
      " [ True  True  True False]]\n",
      "bool\n",
      "\n",
      " tensor([[ True,  True,  True,  True],\n",
      "        [False, False, False, False],\n",
      "        [False, False, False,  True],\n",
      "        [ True,  True,  True, False]])\n",
      "torch.bool\n"
     ]
    }
   ],
   "source": [
    "# Use of boolean tensors for binary masks\n",
    "b_np = (x_np > 0.5)\n",
    "print(b_np)\n",
    "print(b_np.dtype)\n",
    "\n",
    "b_pt = (x_pt > 0.5)\n",
    "print(\"\\n\",b_pt)\n",
    "print(b_pt.dtype)"
   ]
  },
  {
   "cell_type": "code",
   "execution_count": 21,
   "id": "aecd50c8-364c-446f-b9c0-a5249da0ce8c",
   "metadata": {},
   "outputs": [
    {
     "name": "stdout",
     "output_type": "stream",
     "text": [
      "9.406749\n",
      "tensor(9.4067)\n"
     ]
    }
   ],
   "source": [
    "# Similarities between numpy matrix and pytorch tensor\n",
    "print(np.sum(x_np))\n",
    "print(torch.sum(x_pt))"
   ]
  },
  {
   "cell_type": "code",
   "execution_count": 35,
   "id": "42344a67-039e-4a26-a15e-1c26c529f77a",
   "metadata": {},
   "outputs": [
    {
     "name": "stdout",
     "output_type": "stream",
     "text": [
      "numpy\n",
      " [[0.8214238  0.17007604 0.47697404 0.9056355 ]\n",
      " [0.9821865  0.32074028 0.25551972 0.62525356]\n",
      " [0.7910532  0.2397058  0.49204433 0.8389329 ]\n",
      " [0.94513464 0.21631306 0.9415776  0.38417792]]\n",
      "\n",
      " [[0.8214238  0.17007604 0.47697404 0.9056355 ]\n",
      " [0.9821865  0.32074028 0.25551972 0.62525356]\n",
      " [0.7910532  0.2397058  0.49204433 0.8389329 ]\n",
      " [0.94513464 0.21631306 0.9415776  0.38417792]]\n",
      "\n",
      "torch\n",
      " tensor([[0.8214, 0.1701, 0.4770, 0.9056],\n",
      "        [0.9822, 0.3207, 0.2555, 0.6253],\n",
      "        [0.7911, 0.2397, 0.4920, 0.8389],\n",
      "        [0.9451, 0.2163, 0.9416, 0.3842]])\n"
     ]
    }
   ],
   "source": [
    "# transpose elements\n",
    "print('numpy\\n',np.transpose(x_np))\n",
    "print('\\n',x_np.T)\n",
    "print('\\ntorch\\n', torch.transpose(x_pt, 0, 1))"
   ]
  },
  {
   "cell_type": "code",
   "execution_count": 46,
   "id": "d53887fe-d16d-41fa-a56f-58e153710443",
   "metadata": {},
   "outputs": [
    {
     "name": "stdout",
     "output_type": "stream",
     "text": [
      "CPU processing time: 5.271859458998733\n"
     ]
    }
   ],
   "source": [
    "import timeit\n",
    "x_timeit = torch.rand(2**11, 2**11)\n",
    "time_cpu = timeit.timeit('x_timeit@x_timeit', globals=globals(), number=100)\n",
    "print(f'CPU processing time: {time_cpu}')"
   ]
  },
  {
   "cell_type": "code",
   "execution_count": 45,
   "id": "ebe69a80-ab30-4230-8b4a-35c9bac24f15",
   "metadata": {},
   "outputs": [
    {
     "name": "stdout",
     "output_type": "stream",
     "text": [
      "is CUDA available? : False\n"
     ]
    }
   ],
   "source": [
    "# verify if we have an NVIDIA GPU available\n",
    "print('is CUDA available? :', torch.cuda.is_available())\n",
    "device = torch.device('cuda')"
   ]
  },
  {
   "cell_type": "markdown",
   "id": "6f561f41-b7a5-41a2-8f64-d4059307c200",
   "metadata": {},
   "source": [
    "## Automatic differenciation with pyTorch"
   ]
  },
  {
   "cell_type": "code",
   "execution_count": 47,
   "id": "c67091d8-b8d4-4316-ada6-b6367f9f9efd",
   "metadata": {},
   "outputs": [],
   "source": [
    "# Call dependencies\n",
    "import seaborn as sns\n",
    "import matplotlib.pyplot as plt"
   ]
  },
  {
   "cell_type": "code",
   "execution_count": 48,
   "id": "95346dd0-698b-4180-bd3f-65206dc56fd2",
   "metadata": {},
   "outputs": [],
   "source": [
    "# define the function f(x) = (x - 2)**2\n",
    "def f(x):\n",
    "    return torch.pow((x-2), 2)"
   ]
  },
  {
   "cell_type": "code",
   "execution_count": 53,
   "id": "bd23ecb1-e095-4c90-ae60-9fee966b510f",
   "metadata": {},
   "outputs": [
    {
     "data": {
      "text/plain": [
       "<Axes: >"
      ]
     },
     "execution_count": 53,
     "metadata": {},
     "output_type": "execute_result"
    },
    {
     "data": {
      "image/png": "[encoded data removed]",
      "text/plain": [
       "<Figure size 640x480 with 1 Axes>"
      ]
     },
     "metadata": {},
     "output_type": "display_data"
    }
   ],
   "source": [
    "# Plot the function\n",
    "x_axis_vals = np.linspace(-7, 9, 100)\n",
    "y_axis_vals = f(torch.tensor(x_axis_vals)).numpy()\n",
    "\n",
    "sns.lineplot(x=x_axis_vals, y=y_axis_vals, label='$f(x) = (x-2)^2$')"
   ]
  },
  {
   "cell_type": "code",
   "execution_count": 54,
   "id": "119dc520-94ed-494b-a066-21cf31239c6d",
   "metadata": {},
   "outputs": [],
   "source": [
    "# Define the derivative of the fucntion f(x) = (x - 2)**2\n",
    "def fP(x):\n",
    "    return 2*x - 4"
   ]
  },
  {
   "cell_type": "code",
   "execution_count": 57,
   "id": "e06da5b9-b416-4dac-94e4-1f3e6da681bd",
   "metadata": {},
   "outputs": [
    {
     "data": {
      "text/plain": [
       "<Axes: ylabel='None'>"
      ]
     },
     "execution_count": 57,
     "metadata": {},
     "output_type": "execute_result"
    },
    {
     "data": {
      "image/png": "[encoded data removed]",
      "text/plain": [
       "<Figure size 640x480 with 1 Axes>"
      ]
     },
     "metadata": {},
     "output_type": "display_data"
    }
   ],
   "source": [
    "# calculate derivative values and plot\n",
    "y_axis_p = fP(torch.tensor(x_axis_vals))\n",
    "\n",
    "sns.lineplot(x=x_axis_vals, y=[0.0]*len(x_axis_vals), label='0', color='black') # horizontal line at y=0\n",
    "sns.lineplot(x=x_axis_vals, y=y_axis_vals, label='$f(x) = (x-2)^2$') # Plot of the equation\n",
    "sns.lineplot(x=x_axis_vals, y=y_axis_p, label=\"Gradient of $f'(x) = 2x-4\")\n"
   ]
  },
  {
   "cell_type": "code",
   "execution_count": 83,
   "id": "a5401f50-9ce4-4216-b826-2b704d5a309f",
   "metadata": {},
   "outputs": [
    {
     "name": "stdout",
     "output_type": "stream",
     "text": [
      "tensor([-3.5000], requires_grad=True)\n",
      "None\n"
     ]
    }
   ],
   "source": [
    "# Use automatic differentiation of pyTorch\n",
    "x = torch.tensor([-3.5], requires_grad=True)\n",
    "print(x)\n",
    "print(x.grad)"
   ]
  },
  {
   "cell_type": "code",
   "execution_count": 84,
   "id": "8ab5e1d2-2339-43a7-bbda-a5bf90cf0330",
   "metadata": {},
   "outputs": [
    {
     "name": "stdout",
     "output_type": "stream",
     "text": [
      "tensor([30.2500], grad_fn=<PowBackward0>)\n"
     ]
    }
   ],
   "source": [
    "# compute f(x)\n",
    "value = f(x)\n",
    "print(value)"
   ]
  },
  {
   "cell_type": "code",
   "execution_count": 85,
   "id": "42aebdf0-bc7d-4891-9605-39cdceb29a23",
   "metadata": {},
   "outputs": [
    {
     "name": "stdout",
     "output_type": "stream",
     "text": [
      "tensor([-11.])\n"
     ]
    }
   ],
   "source": [
    "value.backward()\n",
    "print(x.grad)"
   ]
  },
  {
   "cell_type": "code",
   "execution_count": 90,
   "id": "ba3483fa-3115-4f74-84e6-86b8eae50706",
   "metadata": {},
   "outputs": [],
   "source": [
    "# All things together. Define initial parameters\n",
    "x1 = torch.tensor([-5.5], requires_grad=True) # starting guess\n",
    "x_cur = x1.clone() # clone the starting guess to point to other object, not x1\n",
    "x_prev = x_cur*100 # previous value to work with\n",
    "epsilon = 1e-5 # limit of error to stop iterating\n",
    "eta = 0.1 # learning rate"
   ]
  },
  {
   "cell_type": "code",
   "execution_count": 92,
   "id": "bed7bc63-ba10-408a-a250-0ebd5554d450",
   "metadata": {},
   "outputs": [
    {
     "name": "stdout",
     "output_type": "stream",
     "text": [
      "tensor([2.0000])\n"
     ]
    }
   ],
   "source": [
    "# create the loop\n",
    "while torch.linalg.norm(x_cur - x_prev) > epsilon:\n",
    "    x_prev = x_cur.clone()\n",
    "    # compute function, gradient and update values\n",
    "    value = f(x1)\n",
    "    value.backward()\n",
    "    x1.data -= eta * x1.grad\n",
    "\n",
    "    x1.grad.zero_() # delete zeros\n",
    "    x_cur = x1.data \n",
    "\n",
    "print(x_cur)"
   ]
  },
  {
   "cell_type": "markdown",
   "id": "69a28657-0186-4290-aaf5-a08e74b626df",
   "metadata": {},
   "source": [
    "## Optimizers and parameters in pyTorch"
   ]
  },
  {
   "cell_type": "code",
   "execution_count": 93,
   "id": "458bcd2a-90e9-4d12-a120-2cdea0d0b237",
   "metadata": {},
   "outputs": [],
   "source": [
    "import torch.nn as nn"
   ]
  },
  {
   "cell_type": "code",
   "execution_count": 94,
   "id": "04795fe3-843a-4f89-bc90-6928dfc9fdcb",
   "metadata": {},
   "outputs": [],
   "source": [
    "# Create a object for paramters\n",
    "x_param = torch.nn.Parameter(torch.tensor([-5.0]), requires_grad=True)"
   ]
  },
  {
   "cell_type": "code",
   "execution_count": 95,
   "id": "46da2d1c-48fd-4015-b0b3-38c225d4ec27",
   "metadata": {},
   "outputs": [],
   "source": [
    "# Create an optimizer using SGD \"stochastic gradient descent\"\n",
    "optimizer = torch.optim.SGD([x_param], lr=eta)"
   ]
  },
  {
   "cell_type": "code",
   "execution_count": 97,
   "id": "ed96c5e1-61fc-486d-b369-bcc2b0085573",
   "metadata": {},
   "outputs": [
    {
     "name": "stdout",
     "output_type": "stream",
     "text": [
      "tensor([2.0000])\n"
     ]
    }
   ],
   "source": [
    "# Create the backpropagation code\n",
    "for epoch in range(60):\n",
    "    optimizer.zero_grad()\n",
    "    loss_incurred = f(x_param)\n",
    "    loss_incurred.backward()\n",
    "    optimizer.step()\n",
    "print(x_param.data)"
   ]
  },
  {
   "cell_type": "markdown",
   "id": "7c8d01b4-ed7c-4470-9522-04d688ca3b9e",
   "metadata": {},
   "source": [
    "## Loading dataset objects"
   ]
  },
  {
   "cell_type": "code",
   "execution_count": 165,
   "id": "e631478e-0e14-4902-9f7f-3dff86d6fcfc",
   "metadata": {
    "scrolled": true
   },
   "outputs": [],
   "source": [
    "# Call neccessary dependencies\n",
    "\n",
    "import pandas as pd\n",
    "from torch.utils.data import Dataset\n",
    "from sklearn.datasets import fetch_openml"
   ]
  },
  {
   "cell_type": "code",
   "execution_count": 175,
   "id": "50fa0366-eaf0-470f-bc07-11714df19705",
   "metadata": {},
   "outputs": [
    {
     "name": "stdout",
     "output_type": "stream",
     "text": [
      "(70000, 784)\n"
     ]
    }
   ],
   "source": [
    "# Load dataset with sklearn\n",
    "X, y = fetch_openml('mnist_784', version=1, return_X_y=True, as_frame=True)\n",
    "print(X.shape)"
   ]
  },
  {
   "cell_type": "code",
   "execution_count": 179,
   "id": "7020de6d-e98a-4335-9cf8-4dda5558694b",
   "metadata": {},
   "outputs": [],
   "source": [
    "# Create the class and functions\n",
    "class SimpleDataset(Dataset):\n",
    "    \"\"\"\n",
    "    Create a dataset class that takes in X and y as input. starts with \"__init__ method.\n",
    "    Needs a \"__getitem__\" method tat returns the data and lable as a tuple(inputs, outputs)\n",
    "    Also needs the __lenLL function to know the lenght of the datas set\n",
    "    \"\"\"\n",
    "    def __init__(self, X, y):\n",
    "        super(SimpleDataset, self).__init__()\n",
    "        self.X = X.values\n",
    "        self.y = y.values\n",
    "\n",
    "    def __getitem__(self, index):\n",
    "        inputs = torch.tensor(self.X[index,:], dtype=torch.float32)\n",
    "        targets = torch.tensor(int(self.y[index]), dtype=torch.int64)\n",
    "        return inputs, targets\n",
    "\n",
    "    def __len__(self):\n",
    "        return self.X.shape[0]"
   ]
  },
  {
   "cell_type": "code",
   "execution_count": 180,
   "id": "af9a95a6-f91b-4d4c-b868-a1707838684e",
   "metadata": {},
   "outputs": [],
   "source": [
    "# Create the dataset\n",
    "dataset = SimpleDataset(X, y)"
   ]
  },
  {
   "cell_type": "code",
   "execution_count": 183,
   "id": "f22f6267-9936-42ea-aabf-327ace1ff24c",
   "metadata": {},
   "outputs": [
    {
     "name": "stdout",
     "output_type": "stream",
     "text": [
      "Length of dataset: 70000\n",
      "Dataset features: torch.Size([784])\n",
      "Lable of index 0: 5\n"
     ]
    }
   ],
   "source": [
    "# Exploere the data set quickly\n",
    "print(f'Length of dataset: {len(dataset)}')\n",
    "example, label = dataset[0]\n",
    "print(f'Dataset features: {example.shape}')\n",
    "print(f'Lable of index 0: {label}')"
   ]
  },
  {
   "cell_type": "code",
   "execution_count": null,
   "id": "c859af69-cd24-4e93-8ebd-7de0efc08a32",
   "metadata": {},
   "outputs": [],
   "source": []
  }
 ],
 "metadata": {
  "kernelspec": {
   "display_name": "Python [conda env:PyTorch]",
   "language": "python",
   "name": "conda-env-PyTorch-py"
  },
  "language_info": {
   "codemirror_mode": {
    "name": "ipython",
    "version": 3
   },
   "file_extension": ".py",
   "mimetype": "text/x-python",
   "name": "python",
   "nbconvert_exporter": "python",
   "pygments_lexer": "ipython3",
   "version": "3.13.7"
  }
 },
 "nbformat": 4,
 "nbformat_minor": 5
}
