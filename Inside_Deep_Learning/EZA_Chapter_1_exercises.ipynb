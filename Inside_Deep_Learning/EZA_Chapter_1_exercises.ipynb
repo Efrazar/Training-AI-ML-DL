{
 "cells": [
  {
   "cell_type": "markdown",
   "id": "b1485a7a-c042-44a2-b4be-b8ded24d37c8",
   "metadata": {},
   "source": [
    "# Chapter 1 Exercises"
   ]
  },
  {
   "cell_type": "markdown",
   "id": "3a4279f7-1239-49ee-8c03-1179b91637e5",
   "metadata": {},
   "source": [
    "1. Write a code to compute the average value in torch_tensor3d"
   ]
  },
  {
   "cell_type": "code",
   "execution_count": 2,
   "id": "ec3db8ac-c30a-4cd1-a142-93a3eac0272e",
   "metadata": {},
   "outputs": [],
   "source": [
    "import torch\n",
    "import numpy as np"
   ]
  },
  {
   "cell_type": "code",
   "execution_count": 26,
   "id": "fbf95d6c-84e6-402b-9437-842559ca69be",
   "metadata": {},
   "outputs": [],
   "source": [
    "# create the tensor\n",
    "torch_tensor3d = torch.tensor([\n",
    "    [\n",
    "        [1, 2, 3],\n",
    "        [4, 5, 6]\n",
    "    ],\n",
    "    [\n",
    "        [7, 8, 9],\n",
    "        [10, 11, 12]\n",
    "    ],\n",
    "    [\n",
    "        [13, 14, 15],\n",
    "        [16, 17, 18]\n",
    "    ],\n",
    "    [\n",
    "        [19, 20, 21],\n",
    "        [22, 23, 24]\n",
    "    ]], dtype=torch.float32)"
   ]
  },
  {
   "cell_type": "code",
   "execution_count": 27,
   "id": "692a347a-82c8-4d5b-9241-9de22589b9a1",
   "metadata": {},
   "outputs": [
    {
     "data": {
      "text/plain": [
       "torch.Size([4, 2, 3])"
      ]
     },
     "execution_count": 27,
     "metadata": {},
     "output_type": "execute_result"
    }
   ],
   "source": [
    "torch_tensor3d.shape"
   ]
  },
  {
   "cell_type": "code",
   "execution_count": 43,
   "id": "43f647f7-25e9-4c5c-8046-bf2e9806f26f",
   "metadata": {
    "scrolled": true
   },
   "outputs": [
    {
     "name": "stdout",
     "output_type": "stream",
     "text": [
      "tensor([[10., 11., 12.],\n",
      "        [13., 14., 15.]])\n",
      "tensor([[ 2.5000,  3.5000,  4.5000],\n",
      "        [ 8.5000,  9.5000, 10.5000],\n",
      "        [14.5000, 15.5000, 16.5000],\n",
      "        [20.5000, 21.5000, 22.5000]])\n",
      "tensor([[ 2.,  5.],\n",
      "        [ 8., 11.],\n",
      "        [14., 17.],\n",
      "        [20., 23.]])\n",
      "tensor(12.5000)\n"
     ]
    }
   ],
   "source": [
    "print(torch.mean(torch_tensor3d, dim=0))\n",
    "print(torch.mean(torch_tensor3d, dim=1))\n",
    "print(torch.mean(torch_tensor3d, dim=2))\n",
    "print(torch.mean(torch_tensor3d))"
   ]
  },
  {
   "cell_type": "markdown",
   "id": "26c36849-9643-4089-82c5-cf27369145f0",
   "metadata": {},
   "source": [
    "2. Write a code that indexes into torch_tensor3d and prints out the valu 13"
   ]
  },
  {
   "cell_type": "code",
   "execution_count": 47,
   "id": "85679279-160d-474d-a1ea-779328e571a3",
   "metadata": {},
   "outputs": [
    {
     "data": {
      "text/plain": [
       "tensor(13.)"
      ]
     },
     "execution_count": 47,
     "metadata": {},
     "output_type": "execute_result"
    }
   ],
   "source": [
    "torch_tensor3d[2,0,0]"
   ]
  },
  {
   "cell_type": "markdown",
   "id": "2250e776-2f3f-4499-a2b0-c85b7caf3d3d",
   "metadata": {},
   "source": [
    "4. Write a code that finds the solution to $f(x) = sin(x-2) * (x+2) + \\sqrt{|cos(x)|}$"
   ]
  },
  {
   "cell_type": "code",
   "execution_count": 67,
   "id": "6c663642-d0eb-4eed-8864-e5a536f4aced",
   "metadata": {},
   "outputs": [],
   "source": [
    "# function\n",
    "def f(x):\n",
    "    return torch.sin(x-2)*torch.pow((x+2),2) + torch.sqrt(torch.abs(torch.cos(x)))"
   ]
  },
  {
   "cell_type": "code",
   "execution_count": 79,
   "id": "53191760-066b-47d2-be2b-32068274da1c",
   "metadata": {},
   "outputs": [
    {
     "name": "stdout",
     "output_type": "stream",
     "text": [
      "x: tensor([1.0635])\n",
      "f(x): tensor([-6.8625])\n"
     ]
    }
   ],
   "source": [
    "# compute\n",
    "import torch.nn as nn\n",
    "\n",
    "learning_rate = 0.05\n",
    "\n",
    "# Create a object for paramters\n",
    "x_param = torch.nn.Parameter(torch.tensor([5.0]), requires_grad=True)\n",
    "#Optimizer\n",
    "optimizer = torch.optim.SGD([x_param], lr=learning_rate)\n",
    "\n",
    "# Create the backpropagation code\n",
    "for epoch in range(1000):\n",
    "    optimizer.zero_grad()\n",
    "    loss_incurred = f(x_param)\n",
    "    loss_incurred.backward()\n",
    "    optimizer.step()\n",
    "print(f'x: {x_param.data}')\n",
    "print(f'f(x): {f(x_param.data)}')\n"
   ]
  },
  {
   "cell_type": "code",
   "execution_count": null,
   "id": "fbfd393d-1cb0-40d0-8dfa-7cc4620cecb3",
   "metadata": {},
   "outputs": [],
   "source": []
  }
 ],
 "metadata": {
  "kernelspec": {
   "display_name": "Python(PyTorch)",
   "language": "python",
   "name": "pytorch"
  },
  "language_info": {
   "codemirror_mode": {
    "name": "ipython",
    "version": 3
   },
   "file_extension": ".py",
   "mimetype": "text/x-python",
   "name": "python",
   "nbconvert_exporter": "python",
   "pygments_lexer": "ipython3",
   "version": "3.13.7"
  }
 },
 "nbformat": 4,
 "nbformat_minor": 5
}
